{
 "cells": [
  {
   "cell_type": "code",
   "execution_count": null,
   "metadata": {
    "collapsed": true
   },
   "outputs": [],
   "source": [
    "import pandas as pd\n",
    "import psycopg2\n",
    "from psycopg2.extras import NamedTupleCursor\n",
    "\n",
    "conn = psycopg2.connect(database='finance', cursor_factory=NamedTupleCursor)\n",
    "\n",
    "with conn.cursor() as cur:\n",
    "    cur.execute('''\n",
    "    WITH inflows AS (SELECT SUM(total) FROM transactions WHERE target = 'Cash'),\n",
    "        outflows AS (SELECT SUM(total) FROM transactions WHERE source = 'Cash')\n",
    "    SELECT inflows.sum - outflows.sum AS cash FROM inflows CROSS JOIN outflows;\n",
    "    ''')\n",
    "    cash = cur.fetchone().cash\n",
    "    \n",
    "with conn.cursor() as cur:\n",
    "    cur.execute('''\n",
    "    SELECT target AS ticker, SUM(units) FROM transactions WHERE txtype = 'buy' GROUP BY ticker ORDER BY ticker ASC;\n",
    "    ''')\n",
    "    units = cur.fetchall()\n",
    "    \n",
    "tickers = '+'.join([x.ticker for x in units])\n",
    "prices = pd.read_csv('http://finance.yahoo.com/d/quotes.csv?s=' + tickers + '&f=sl1p', header=None)  # l1 rather than b\n",
    "prices.set_index(0, inplace=True)  \n",
    "\n",
    "from decimal import Decimal\n",
    "previous = cash\n",
    "total = cash\n",
    "for asset in units:\n",
    "    asset_value = asset.sum * Decimal(prices.loc[asset.ticker][1])\n",
    "    prev_asset_value = asset.sum * Decimal(prices.loc[asset.ticker][2])\n",
    "    total += asset_value\n",
    "    previous += prev_asset_value\n",
    "    day = asset_value - prev_asset_value\n",
    "    pctg = 100 * day / prev_asset_value\n",
    "    print(f\"{asset.ticker:8}: {asset_value:10,.2f}  ({day:+10,.2f}, {pctg:+6.2f}%)\")\n",
    "\n",
    "day = total - previous\n",
    "pctg = 100 * day / previous\n",
    "print(f\"Cash    : {cash:10,.2f}\")\n",
    "print(f\"Total   : {total:10,.2f}  ({day:+10,.2f}, {pctg:+6.2f}%)\")\n",
    "\n",
    "with conn.cursor() as cur:\n",
    "    cur.execute('''SELECT SUM(total) AS deposits FROM transactions WHERE txtype = 'deposit';''')\n",
    "    deposits = cur.fetchone().deposits\n",
    "    profit = total - deposits\n",
    "    profit_pctg = 100 * profit / deposits\n",
    "\n",
    "print()\n",
    "print(f\"Deposits: {deposits:10,.2f}  ({profit:+10,.2f}, {profit_pctg:+6.2f}%)\")\n"
   ]
  },
  {
   "cell_type": "code",
   "execution_count": null,
   "metadata": {
    "collapsed": true
   },
   "outputs": [],
   "source": []
  }
 ],
 "metadata": {
  "kernelspec": {
   "display_name": "Python 3",
   "language": "python",
   "name": "python3"
  },
  "language_info": {
   "codemirror_mode": {
    "name": "ipython",
    "version": 3
   },
   "file_extension": ".py",
   "mimetype": "text/x-python",
   "name": "python",
   "nbconvert_exporter": "python",
   "pygments_lexer": "ipython3",
   "version": "3.6.1"
  }
 },
 "nbformat": 4,
 "nbformat_minor": 2
}
