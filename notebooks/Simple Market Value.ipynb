{
 "cells": [
  {
   "cell_type": "code",
   "execution_count": 73,
   "metadata": {
    "collapsed": false
   },
   "outputs": [
    {
     "name": "stdout",
     "output_type": "stream",
     "text": [
      "VAB.TO:   2,165.80  (  +11.05, +0.51%)\n",
      "VCN.TO:   2,173.50  (   +5.52, +0.13%)\n",
      "VEE.TO:   2,183.76  (  +13.68, +0.21%)\n",
      "VI.TO :   2,143.68  (   -0.84, -0.01%)\n",
      "VIU.TO:   4,385.92  (   +8.80, +0.07%)\n",
      "VRE.TO:   2,186.70  (  +22.94, +0.15%)\n",
      "VUN.TO:   6,554.95  (   +0.00, +0.00%)\n",
      "Cash  :      21.37\n",
      "Total :  21,815.68  (  +61.15, +0.28%)\n"
     ]
    }
   ],
   "source": [
    "import pandas as pd\n",
    "import psycopg2\n",
    "from psycopg2.extras import NamedTupleCursor\n",
    "\n",
    "conn = psycopg2.connect(database='finance', cursor_factory=NamedTupleCursor)\n",
    "\n",
    "with conn.cursor() as cur:\n",
    "    cur.execute('''\n",
    "    WITH inflows AS (SELECT SUM(total) FROM transactions WHERE target = 'Cash'),\n",
    "        outflows AS (SELECT SUM(total) FROM transactions WHERE source = 'Cash')\n",
    "    SELECT inflows.sum - outflows.sum AS cash FROM inflows CROSS JOIN outflows;\n",
    "    ''')\n",
    "    cash = cur.fetchone().cash\n",
    "    \n",
    "with conn.cursor() as cur:\n",
    "    cur.execute('''\n",
    "    SELECT target AS ticker, SUM(units) FROM transactions WHERE txtype = 'buy' GROUP BY ticker ORDER BY ticker ASC;\n",
    "    ''')\n",
    "    units = cur.fetchall()\n",
    "    \n",
    "tickers = '+'.join([x.ticker for x in units])\n",
    "prices = pd.read_csv('http://finance.yahoo.com/d/quotes.csv?s=' + tickers + '&f=sbp', header=None)\n",
    "prices.set_index(0, inplace=True)  \n",
    "\n",
    "from decimal import Decimal\n",
    "previous = cash\n",
    "total = cash\n",
    "for asset in units:\n",
    "    asset_value = asset.sum * Decimal(prices.ix[asset.ticker][1])\n",
    "    prev_asset_value = asset.sum * Decimal(prices.ix[asset.ticker][2])\n",
    "    total += asset_value\n",
    "    previous += prev_asset_value\n",
    "    day = asset_value - prev_asset_value\n",
    "    pctg = 100 * day / previous\n",
    "    print(f\"{asset.ticker:6}: {asset_value:10,.2f}  ({day:+8,.2f}, {pctg:+5.2f}%)\")\n",
    "\n",
    "day = total - previous\n",
    "pctg = 100 * day / previous\n",
    "print(f\"Cash  : {cash:10,.2f}\")\n",
    "print(f\"Total : {total:10,.2f}  ({day:+8,.2f}, {pctg:+5.2f}%)\")"
   ]
  },
  {
   "cell_type": "code",
   "execution_count": null,
   "metadata": {
    "collapsed": true
   },
   "outputs": [],
   "source": []
  }
 ],
 "metadata": {
  "kernelspec": {
   "display_name": "Python 3",
   "language": "python",
   "name": "python3"
  },
  "language_info": {
   "codemirror_mode": {
    "name": "ipython",
    "version": 3
   },
   "file_extension": ".py",
   "mimetype": "text/x-python",
   "name": "python",
   "nbconvert_exporter": "python",
   "pygments_lexer": "ipython3",
   "version": "3.6.0"
  }
 },
 "nbformat": 4,
 "nbformat_minor": 2
}
