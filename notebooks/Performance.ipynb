{
 "cells": [
  {
   "cell_type": "code",
   "execution_count": null,
   "metadata": {
    "collapsed": false
   },
   "outputs": [],
   "source": [
    "%matplotlib inline\n",
    "import sys\n",
    "import pandas as pd\n",
    "import numpy as np\n",
    "import matplotlib.pyplot as plt\n",
    "import seaborn as sns\n",
    "sys.path.append('/Users/jorge/Projects/finance')\n",
    "\n",
    "from portfolio import Portfolio"
   ]
  },
  {
   "cell_type": "code",
   "execution_count": null,
   "metadata": {
    "collapsed": false
   },
   "outputs": [],
   "source": [
    "p = Portfolio()\n",
    "days = p.performance.keys()\n",
    "values = []\n",
    "deposits = []\n",
    "asset_returns = {}\n",
    "for day, data in p.performance.items():\n",
    "    values.append(data['marketValue'])\n",
    "    deposits.append(data['totalDeposits'])\n",
    "    for asset, asset_data in data['assets'].items():\n",
    "        asset_returns.setdefault(asset, [])\n",
    "        asset_returns[asset].append(asset_data['totalReturns'])\n",
    "    print(f\"{day}: {data['marketValue']:10,.2f}\")"
   ]
  },
  {
   "cell_type": "code",
   "execution_count": null,
   "metadata": {
    "collapsed": false
   },
   "outputs": [],
   "source": [
    "fig, axes = plt.subplots(2, 2, figsize=(16, 10))\n",
    "plt.subplot(221)\n",
    "plt.ylabel('Amounts')\n",
    "plt.ylim(0, 30000)\n",
    "plt.title('Market Value')\n",
    "values_df = pd.DataFrame(values, index=days, columns=['Values'])\n",
    "deposits_df = pd.DataFrame(deposits, index=days, columns=['Deposits'])\n",
    "plt.plot(values_df, '#40C040', deposits_df, '#6060B0', linewidth=1.0)\n",
    "ax = plt.gca()\n",
    "yticks = ax.get_yticks()\n",
    "ax.set_yticklabels(['{:10,.0f}'.format(y) for y in yticks])\n",
    "ax.legend(['Market Value', 'Deposits'])\n",
    "\n",
    "plt.subplot(222)\n",
    "plt.title('True Time-Weighted Returns and Total Returns')\n",
    "plt.ylabel('Returns')\n",
    "ttwr = pd.DataFrame([x['ttwr'] for x in p.performance.values()], index=days, columns=['ttwr'])\n",
    "returns = pd.DataFrame([(x['marketValue'] - x['totalDeposits']) / x['totalDeposits'] for x in p.performance.values()], index=days, columns=['returns'])\n",
    "plt.plot(ttwr, '#40C040', returns, '#C08010', linewidth=1.0)\n",
    "ax = plt.gca()\n",
    "yticks = ax.get_yticks()\n",
    "ax.set_yticklabels(['{:3.1f}%'.format(y * 100) for y in yticks])\n",
    "ax.legend(['True Time-Weighted Returns', 'Total Returns'])\n",
    "    \n",
    "plt.subplot(223)\n",
    "plt.title('Price Changes')\n",
    "prices = pd.DataFrame(p.assets.prices).transpose()\n",
    "changes = np.ones_like(prices) * (prices - prices.iloc[0]) / prices.iloc[0]\n",
    "plt.plot(changes, linewidth=1.0)\n",
    "ax = plt.gca()\n",
    "yticks = ax.get_yticks()\n",
    "ax.set_yticklabels(['{:3.1f}%'.format(y * 100) for y in yticks])\n",
    "ax.legend(changes.columns)\n",
    "\n",
    "plt.subplot(224)\n",
    "plt.title('Correlations')\n",
    "df = pd.DataFrame(p.assets.correlations)\n",
    "df = df.sort_index(axis=1)\n",
    "\n",
    "mask = np.zeros_like(df, dtype=np.bool)\n",
    "mask[np.triu_indices_from(mask)] = True\n",
    "ax = plt.gca()\n",
    "\n",
    "# Generate a custom diverging colormap\n",
    "cmap = sns.diverging_palette(220, 10, as_cmap=True)\n",
    "\n",
    "# Draw the heatmap with the mask and correct aspect ratio\n",
    "sns.heatmap(df, mask=mask, cmap=cmap, vmax=.3, square=True,\n",
    "            linewidths=.5, cbar_kws={\"shrink\": .5}, annot=True, ax=ax)\n",
    "\n",
    "plt.show()"
   ]
  },
  {
   "cell_type": "code",
   "execution_count": null,
   "metadata": {
    "collapsed": true
   },
   "outputs": [],
   "source": []
  }
 ],
 "metadata": {
  "kernelspec": {
   "display_name": "Python 3",
   "language": "python",
   "name": "python3"
  },
  "language_info": {
   "codemirror_mode": {
    "name": "ipython",
    "version": 3
   },
   "file_extension": ".py",
   "mimetype": "text/x-python",
   "name": "python",
   "nbconvert_exporter": "python",
   "pygments_lexer": "ipython3",
   "version": "3.6.0"
  }
 },
 "nbformat": 4,
 "nbformat_minor": 2
}
