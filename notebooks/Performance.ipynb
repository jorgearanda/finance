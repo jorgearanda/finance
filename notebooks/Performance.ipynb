{
 "cells": [
  {
   "cell_type": "code",
   "execution_count": null,
   "metadata": {
    "collapsed": true
   },
   "outputs": [],
   "source": [
    "%matplotlib inline\n",
    "import sys\n",
    "import numpy as np\n",
    "import matplotlib.pyplot as plt\n",
    "import seaborn as sns\n",
    "sys.path.append('/Users/jorge/Projects/finance')\n",
    "\n",
    "from portfolio import Portfolio"
   ]
  },
  {
   "cell_type": "code",
   "execution_count": null,
   "metadata": {},
   "outputs": [],
   "source": [
    "p = Portfolio()\n",
    "\n",
    "print(p.by_day.tail(10)['total_value'])"
   ]
  },
  {
   "cell_type": "code",
   "execution_count": null,
   "metadata": {
    "scrolled": false
   },
   "outputs": [],
   "source": [
    "sns.set()\n",
    "sns.set_style('whitegrid')\n",
    "fig, axes = plt.subplots(6, 1, figsize=(16, 50))\n",
    "\n",
    "plt.subplot(611)\n",
    "plt.ylabel('Amounts')\n",
    "ylim = p.by_day['total_value'].max() + 5000 - (p.by_day['total_value'].max() % 5000)\n",
    "plt.ylim(0, ylim)\n",
    "plt.title('Market Value')\n",
    "plt.plot(p.by_day['total_value'], '#40C040', p.by_day['capital'], '#6060B0', linewidth=1.0)\n",
    "ax = plt.gca()\n",
    "ax.autoscale(axis='x', tight=True)\n",
    "yticks = ax.get_yticks()\n",
    "ax.set_yticklabels(['{:10,.0f}'.format(y) for y in yticks])\n",
    "ax.legend(['Value', 'Capital'])\n",
    "\n",
    "plt.subplot(612)\n",
    "plt.title('Profit or Loss')\n",
    "ax = plt.gca()\n",
    "plt.plot(p.by_day['profit'], 'CornflowerBlue', linewidth=1.0)\n",
    "ax.autoscale(axis='x', tight=True)\n",
    "ax.fill_between(p.by_day.index, p.by_day['profit'], color='CornflowerBlue', alpha=0.8)\n",
    "yticks = ax.get_yticks()\n",
    "ax.set_yticklabels(['{:10,.0f}'.format(y) for y in yticks])\n",
    "ax.legend(['Profit or Loss'])\n",
    "\n",
    "plt.subplot(613)\n",
    "plt.title('Money-, Time-Weighted, and Total Returns')\n",
    "plt.ylabel('Returns')\n",
    "plt.plot(p.by_day['mwrr'], '#40C040', p.by_day['twrr'], '#C09030', p.by_day['returns'], '#80A0C0', linewidth=1.0)\n",
    "plt.ylim(-0.04, 0.20)\n",
    "ax = plt.gca()\n",
    "ax.autoscale(axis='x', tight=True)\n",
    "ax.set_yticks([k / 100.0 for k in range(-4, 20, 2)])\n",
    "yticks = ax.get_yticks()\n",
    "ax.set_yticklabels(['{:3.1f}%'.format(y * 100) for y in yticks])\n",
    "ax.legend(['Money-Weighted Real Returns', 'True Time-Weighted Returns', 'Total Returns'])\n",
    "    \n",
    "plt.subplot(614)\n",
    "plt.title('Annualized Money- and Time-Weighted Returns')\n",
    "plt.ylabel('Returns')\n",
    "plt.ylim(-0.05, 0.3)\n",
    "plt.plot(p.by_day['mwrr_annualized'], '#40C040', p.by_day['twrr_annualized'], '#C09030', linewidth=1.0)\n",
    "plt.ylim(-0.04, 0.20)\n",
    "ax = plt.gca()\n",
    "ax.autoscale(axis='x', tight=True)\n",
    "ax.set_yticks([k / 100.0 for k in range(-4, 20, 2)])\n",
    "yticks = ax.get_yticks()\n",
    "ax.set_yticklabels(['{:3.1f}%'.format(y * 100) for y in yticks])\n",
    "ax.legend(['Annualized Money-Weighted Real Returns', 'Annualized True Time-Weighted Returns'])\n",
    "\n",
    "plt.subplot(615)\n",
    "plt.title('Ticker Returns')\n",
    "plt.plot(p.tickers.returns, linewidth=1.0)\n",
    "ax = plt.gca()\n",
    "ax.autoscale(axis='x', tight=True)\n",
    "yticks = ax.get_yticks()\n",
    "ax.set_yticklabels(['{:3.1f}%'.format(y * 100) for y in yticks])\n",
    "ax.legend(p.tickers.returns.columns)\n",
    "\n",
    "plt.subplot(616)\n",
    "plt.title('Correlations')\n",
    "mask = np.zeros_like(p.tickers.correlations, dtype=np.bool)\n",
    "mask[np.triu_indices_from(mask)] = True\n",
    "ax = plt.gca()\n",
    "cmap = sns.diverging_palette(240, 10, as_cmap=True)\n",
    "sns.heatmap(p.tickers.correlations, mask=mask, cmap=cmap, vmin=-1, vmax=1, square=True,\n",
    "            linewidths=.5, cbar_kws={\"shrink\": .8}, annot=True, ax=ax)\n",
    "\n",
    "plt.show()"
   ]
  },
  {
   "cell_type": "code",
   "execution_count": null,
   "metadata": {},
   "outputs": [],
   "source": [
    "p.latest()"
   ]
  },
  {
   "cell_type": "code",
   "execution_count": null,
   "metadata": {
    "collapsed": true
   },
   "outputs": [],
   "source": []
  }
 ],
 "metadata": {
  "kernelspec": {
   "display_name": "Python 3",
   "language": "python",
   "name": "python3"
  },
  "language_info": {
   "codemirror_mode": {
    "name": "ipython",
    "version": 3
   },
   "file_extension": ".py",
   "mimetype": "text/x-python",
   "name": "python",
   "nbconvert_exporter": "python",
   "pygments_lexer": "ipython3",
   "version": "3.6.2"
  }
 },
 "nbformat": 4,
 "nbformat_minor": 2
}
