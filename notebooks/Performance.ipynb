{
 "cells": [
  {
   "cell_type": "code",
   "execution_count": null,
   "metadata": {
    "collapsed": true
   },
   "outputs": [],
   "source": [
    "%matplotlib inline\n",
    "import sys\n",
    "from datetime import date, timedelta\n",
    "import pandas as pd\n",
    "import numpy as np\n",
    "import matplotlib.pyplot as plt\n",
    "import seaborn as sns\n",
    "sys.path.append('/Users/jorge/Projects/finance')\n",
    "\n",
    "from portfolio import Portfolio\n",
    "from components.tickers import Tickers"
   ]
  },
  {
   "cell_type": "code",
   "execution_count": null,
   "metadata": {},
   "outputs": [],
   "source": [
    "p = Portfolio()\n",
    "t = Tickers()\n",
    "\n",
    "days = p.performance.keys()\n",
    "values = []\n",
    "deposits = []\n",
    "profit = []\n",
    "max_value = 0\n",
    "yesterday = date.today() - timedelta(days=1)\n",
    "\n",
    "for day, data in p.performance.items():\n",
    "    values.append(data['marketValue'])\n",
    "    deposits.append(data['totalDeposits'])\n",
    "    profit.append(float(data['profitOrLoss']))\n",
    "    max_value = max(max_value, float(data['marketValue']))\n",
    "\n",
    "    print(f\"{day}: {data['marketValue']:10,.2f}\")"
   ]
  },
  {
   "cell_type": "code",
   "execution_count": null,
   "metadata": {},
   "outputs": [],
   "source": [
    "sns.set()\n",
    "sns.set_style('whitegrid')\n",
    "fig, axes = plt.subplots(3, 2, figsize=(16, 16))\n",
    "plt.subplot(321)\n",
    "plt.ylabel('Amounts')\n",
    "ylim = max_value + 5000 - (max_value % 5000)\n",
    "plt.ylim(0, ylim)\n",
    "plt.title('Market Value')\n",
    "values_df = pd.DataFrame(values, index=days, columns=['Values'])\n",
    "deposits_df = pd.DataFrame(deposits, index=days, columns=['Deposits'])\n",
    "plt.plot(values_df, '#40C040', deposits_df, '#6060B0', linewidth=1.0)\n",
    "ax = plt.gca()\n",
    "yticks = ax.get_yticks()\n",
    "ax.set_yticklabels(['{:10,.0f}'.format(y) for y in yticks])\n",
    "ax.legend(['Market Value', 'Deposits'])\n",
    "\n",
    "plt.subplot(322)\n",
    "plt.title('Profit or Loss')\n",
    "profit_df = pd.DataFrame(profit, index=days, columns=['Profit'])\n",
    "ax = plt.gca()\n",
    "profit_df.plot(linewidth=1.0, kind='area', stacked=False, ax=ax)\n",
    "ax.fill()\n",
    "yticks = ax.get_yticks()\n",
    "ax.set_yticklabels(['{:10,.0f}'.format(y) for y in yticks])\n",
    "ax.legend(['Profit or Loss'])\n",
    "\n",
    "plt.subplot(323)\n",
    "plt.title('Money-, Time-Weighted, and Total Returns')\n",
    "plt.ylabel('Returns')\n",
    "mwrr = pd.DataFrame([x['mwrr'] for x in p.performance.values()], index=days, columns=['mwrr'])\n",
    "ttwr = pd.DataFrame([x['ttwr'] for x in p.performance.values()], index=days, columns=['ttwr'])\n",
    "returns = pd.DataFrame([(x['marketValue'] - x['totalDeposits']) / x['totalDeposits'] for x in p.performance.values()], index=days, columns=['returns'])\n",
    "plt.plot(mwrr, '#40C040', ttwr, '#C09030', returns, '#80A0C0', linewidth=1.0)\n",
    "ax = plt.gca()\n",
    "yticks = ax.get_yticks()\n",
    "ax.set_yticklabels(['{:3.1f}%'.format(y * 100) for y in yticks])\n",
    "ax.legend(['Money-Weighted Real Returns', 'True Time-Weighted Returns', 'Total Returns'])\n",
    "    \n",
    "plt.subplot(324)\n",
    "plt.title('Annualized Money-, Time-Weighted, and Total Returns')\n",
    "plt.ylabel('Returns')\n",
    "plt.ylim(-0.05, 0.3)\n",
    "mwrr = pd.DataFrame([x['mwrrAnnualized'] for x in p.performance.values()], index=days, columns=['mwrrAnnualized'])\n",
    "ttwr = pd.DataFrame([x['ttwrAnnualized'] for x in p.performance.values()], index=days, columns=['ttwrAnnualized'])\n",
    "returns = pd.DataFrame([x['totalReturnsAnnualized'] for x in p.performance.values()], index=days, columns=['returnsAnnualized'])\n",
    "plt.plot(mwrr, '#40C040', ttwr, '#C09030', returns, '#80A0C0', linewidth=1.0)\n",
    "ax = plt.gca()\n",
    "yticks = ax.get_yticks()\n",
    "ax.set_yticklabels(['{:3.1f}%'.format(y * 100) for y in yticks])\n",
    "ax.legend(['Annualized Money-Weighted Real Returns', 'Annualized True Time-Weighted Returns', 'Annualized Total Returns'])\n",
    "    \n",
    "plt.subplot(325)\n",
    "plt.title('Ticker Returns')\n",
    "plt.plot(t.returns, linewidth=1.0)\n",
    "ax = plt.gca()\n",
    "yticks = ax.get_yticks()\n",
    "ax.set_yticklabels(['{:3.1f}%'.format(y * 100) for y in yticks])\n",
    "ax.legend(t.returns.columns)\n",
    "\n",
    "plt.subplot(326)\n",
    "plt.title('Correlations')\n",
    "\n",
    "mask = np.zeros_like(t.correlations, dtype=np.bool)\n",
    "mask[np.triu_indices_from(mask)] = True\n",
    "ax = plt.gca()\n",
    "\n",
    "# Generate a custom diverging colormap\n",
    "cmap = sns.diverging_palette(240, 10, as_cmap=True)\n",
    "\n",
    "# Draw the heatmap with the mask and correct aspect ratio\n",
    "sns.heatmap(t.correlations, mask=mask, cmap=cmap, vmax=.3, square=True,\n",
    "            linewidths=.5, cbar_kws={\"shrink\": .5}, annot=True, ax=ax)\n",
    "\n",
    "plt.show()"
   ]
  },
  {
   "cell_type": "code",
   "execution_count": null,
   "metadata": {
    "collapsed": true
   },
   "outputs": [],
   "source": [
    "p.performance[yesterday]"
   ]
  },
  {
   "cell_type": "code",
   "execution_count": null,
   "metadata": {
    "collapsed": true
   },
   "outputs": [],
   "source": [
    "allocations = pd.DataFrame(\n",
    "    [[x, round(float(y['percentPortfolio'] * 100), 2)] for x, y in p.performance[date.today() - timedelta(days=1)]['assets'].items()],\n",
    "    columns=['Asset', 'Allocation'])\n",
    "allocations = allocations.set_index('Asset').sort_index()\n",
    "\n",
    "cash_allocation = pd.DataFrame(\n",
    "    [('Cash', round(float(p.performance[date.today() - timedelta(days=1)]['percentCash'] * 100), 2))],\n",
    "    columns=['Asset', 'Allocation'])\n",
    "cash_allocation = cash_allocation.set_index('Asset')\n",
    "\n",
    "allocations = allocations.append(cash_allocation)\n",
    "\n",
    "allocations"
   ]
  },
  {
   "cell_type": "code",
   "execution_count": null,
   "metadata": {
    "collapsed": true
   },
   "outputs": [],
   "source": []
  }
 ],
 "metadata": {
  "kernelspec": {
   "display_name": "Python 3",
   "language": "python",
   "name": "python3"
  },
  "language_info": {
   "codemirror_mode": {
    "name": "ipython",
    "version": 3
   },
   "file_extension": ".py",
   "mimetype": "text/x-python",
   "name": "python",
   "nbconvert_exporter": "python",
   "pygments_lexer": "ipython3",
   "version": "3.6.1"
  }
 },
 "nbformat": 4,
 "nbformat_minor": 2
}
